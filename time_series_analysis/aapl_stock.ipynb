{
 "cells": [
  {
   "cell_type": "markdown",
   "metadata": {},
   "source": [
    "# Time Series Analysis for Apple's stock\n",
    "\n",
    "This is an attempt at understanding the fundamentals of time series analysis by implementing and visualizing concepts like trends, seasonality, moving avaerage, auto regression etc.\n",
    "\n",
    "Source: https://towardsdatascience.com/trend-seasonality-moving-average-auto-regressive-model-my-journey-to-time-series-data-with-edc4c0c8284b"
   ]
  },
  {
   "cell_type": "code",
   "execution_count": 6,
   "metadata": {},
   "outputs": [
    {
     "data": {
      "text/plain": [
       "('aapl.csv', <http.client.HTTPMessage at 0x17bb5d87278>)"
      ]
     },
     "execution_count": 6,
     "metadata": {},
     "output_type": "execute_result"
    }
   ],
   "source": [
    "#getting the data\n",
    "import urllib.request\n",
    "data = \"https://raw.githubusercontent.com/JaeDukSeo/sample_data/master/aapl.csv\"\n",
    "urllib.request.urlretrieve(data, \"aapl.csv\")"
   ]
  },
  {
   "cell_type": "code",
   "execution_count": 30,
   "metadata": {},
   "outputs": [],
   "source": [
    "# Load required modules\n",
    "import matplotlib.pyplot as plt\n",
    "import numpy as np\n",
    "import pandas as pd\n",
    "from plotly.offline import download_plotlyjs, init_notebook_mode, plot, iplot\n",
    "import plotly.graph_objs as go\n",
    "from statsmodels.tsa.ar_model import AR\n",
    "from statsmodels.tsa.seasonal import seasonal_decompose\n",
    "import sys"
   ]
  },
  {
   "cell_type": "code",
   "execution_count": 31,
   "metadata": {},
   "outputs": [
    {
     "data": {
      "text/html": [
       "<div>\n",
       "<style scoped>\n",
       "    .dataframe tbody tr th:only-of-type {\n",
       "        vertical-align: middle;\n",
       "    }\n",
       "\n",
       "    .dataframe tbody tr th {\n",
       "        vertical-align: top;\n",
       "    }\n",
       "\n",
       "    .dataframe thead th {\n",
       "        text-align: right;\n",
       "    }\n",
       "</style>\n",
       "<table border=\"1\" class=\"dataframe\">\n",
       "  <thead>\n",
       "    <tr style=\"text-align: right;\">\n",
       "      <th></th>\n",
       "      <th>Date</th>\n",
       "      <th>Open</th>\n",
       "      <th>High</th>\n",
       "      <th>Low</th>\n",
       "      <th>Close</th>\n",
       "      <th>Mean</th>\n",
       "    </tr>\n",
       "  </thead>\n",
       "  <tbody>\n",
       "    <tr>\n",
       "      <th>0</th>\n",
       "      <td>2008-10-14</td>\n",
       "      <td>116.26</td>\n",
       "      <td>116.40</td>\n",
       "      <td>103.14</td>\n",
       "      <td>104.08</td>\n",
       "      <td>109.770</td>\n",
       "    </tr>\n",
       "    <tr>\n",
       "      <th>1</th>\n",
       "      <td>2008-10-13</td>\n",
       "      <td>104.55</td>\n",
       "      <td>110.53</td>\n",
       "      <td>101.02</td>\n",
       "      <td>110.26</td>\n",
       "      <td>105.775</td>\n",
       "    </tr>\n",
       "    <tr>\n",
       "      <th>2</th>\n",
       "      <td>2008-10-10</td>\n",
       "      <td>85.70</td>\n",
       "      <td>100.00</td>\n",
       "      <td>85.00</td>\n",
       "      <td>96.80</td>\n",
       "      <td>92.500</td>\n",
       "    </tr>\n",
       "    <tr>\n",
       "      <th>3</th>\n",
       "      <td>2008-10-09</td>\n",
       "      <td>93.35</td>\n",
       "      <td>95.80</td>\n",
       "      <td>86.60</td>\n",
       "      <td>88.74</td>\n",
       "      <td>91.200</td>\n",
       "    </tr>\n",
       "    <tr>\n",
       "      <th>4</th>\n",
       "      <td>2008-10-08</td>\n",
       "      <td>85.91</td>\n",
       "      <td>96.33</td>\n",
       "      <td>85.68</td>\n",
       "      <td>89.79</td>\n",
       "      <td>91.005</td>\n",
       "    </tr>\n",
       "  </tbody>\n",
       "</table>\n",
       "</div>"
      ],
      "text/plain": [
       "        Date    Open    High     Low   Close     Mean\n",
       "0 2008-10-14  116.26  116.40  103.14  104.08  109.770\n",
       "1 2008-10-13  104.55  110.53  101.02  110.26  105.775\n",
       "2 2008-10-10   85.70  100.00   85.00   96.80   92.500\n",
       "3 2008-10-09   93.35   95.80   86.60   88.74   91.200\n",
       "4 2008-10-08   85.91   96.33   85.68   89.79   91.005"
      ]
     },
     "execution_count": 31,
     "metadata": {},
     "output_type": "execute_result"
    }
   ],
   "source": [
    "# Load data in DataFrame\n",
    "df = pd.read_csv(\"aapl.csv\", delimiter=',', usecols=['Date','Open','High','Low','Close'])\n",
    "df.Date = pd.to_datetime(df.Date)\n",
    "df['Mean'] = (df.High + df.Low) / 2.0\n",
    "df.head()"
   ]
  },
  {
   "cell_type": "code",
   "execution_count": 32,
   "metadata": {},
   "outputs": [],
   "source": [
    "# using statsmodel library to plot trend, seasonality and noise.\n",
    "decomposition = seasonal_decompose(df.Mean.values, freq=365)\n",
    "trace1 = go.Scatter(x = df.Date, y = decomposition.trend, name='Trend', mode='lines')\n",
    "trace2 = go.Scatter(x = df.Date, y = decomposition.seasonal, name='Seasonality', mode='lines')\n",
    "trace3 = go.Scatter(x = df.Date, y = decomposition.resid, name='Residual', mode='lines')\n",
    "trace4 = go.Scatter(x = df.Date, y = df.Mean, name='Mean Value Stock', mode='lines')"
   ]
  },
  {
   "cell_type": "code",
   "execution_count": 33,
   "metadata": {},
   "outputs": [],
   "source": [
    "# a. Standard Average of Window\n",
    "Mean_list = list(df.Mean)\n",
    "window_size = 50\n",
    "N = len(Mean_list)\n",
    "std_avg_predictions = list(Mean_list[:window_size])\n",
    "for pred_idx in range(window_size, N):\n",
    "    std_avg_predictions.append(np.mean(Mean_list[pred_idx-window_size:pred_idx]))\n",
    "    \n",
    "# b. EXP Average of Window\n",
    "window_size = 100\n",
    "run_avg_predictions = []\n",
    "running_mean = 0.0\n",
    "run_avg_predictions.append(running_mean)\n",
    "decay = 0.8\n",
    "\n",
    "for pred_idx in range(1, N):\n",
    "    running_mean = running_mean*decay + (1.0-decay)*Mean_list[pred_idx-1]\n",
    "    run_avg_predictions.append(running_mean)\n",
    "\n",
    "trace5 = go.Scatter(x = df.Date, y = std_avg_predictions, name='Window AVG', mode='lines')\n",
    "trace6 = go.Scatter(x = df.Date, y = run_avg_predictions, name='Moving AVG', mode='lines')"
   ]
  },
  {
   "cell_type": "code",
   "execution_count": 34,
   "metadata": {},
   "outputs": [
    {
     "data": {
      "image/png": "[encoded data removed]",
      "text/plain": [
       "<matplotlib.figure.Figure at 0x17bdbdfd898>"
      ]
     },
     "metadata": {},
     "output_type": "display_data"
    }
   ],
   "source": [
    "window_size = 50\n",
    "ar_list = list(Mean_list[:window_size])\n",
    "for pred_idx in range(window_size, N):\n",
    "    current_window = Mean_list[pred_idx-window_size:pred_idx]\n",
    "    model = AR(current_window)\n",
    "    model_fit = model.fit(49)\n",
    "    current_predict = model_fit.predict(49, 49)[0]\n",
    "    ar_list.append(current_predict)\n",
    "\n",
    "trace7 = go.Scatter(x = df.Date, y = ar_list, name = 'Auto Regression', mode='lines')\n",
    "\n",
    "data = [trace1,trace2,trace3,trace4,trace5,trace6,trace7]\n",
    "plot(data)\n",
    "\n",
    "import matplotlib.pyplot as plt\n",
    "\n",
    "plt.plot(decomposition.trend)\n",
    "plt.plot(decomposition.seasonal)\n",
    "plt.plot(decomposition.resid)\n",
    "plt.plot(std_avg_predictions)\n",
    "plt.plot(run_avg_predictions)\n",
    "plt.show(ar_list)\n"
   ]
  }
 ],
 "metadata": {
  "kernelspec": {
   "display_name": "Python 3",
   "language": "python",
   "name": "python3"
  },
  "language_info": {
   "codemirror_mode": {
    "name": "ipython",
    "version": 3
   },
   "file_extension": ".py",
   "mimetype": "text/x-python",
   "name": "python",
   "nbconvert_exporter": "python",
   "pygments_lexer": "ipython3",
   "version": "3.5.0"
  }
 },
 "nbformat": 4,
 "nbformat_minor": 2
}
