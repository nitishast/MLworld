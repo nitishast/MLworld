{
 "cells": [
  {
   "cell_type": "code",
   "execution_count": 15,
   "metadata": {
    "collapsed": true
   },
   "outputs": [],
   "source": [
    "'''\n",
    "loading the dataset\n",
    "'''\n",
    "\n",
    "from sklearn.datasets import load_boston\n",
    "boston = load_boston()"
   ]
  },
  {
   "cell_type": "code",
   "execution_count": 28,
   "metadata": {},
   "outputs": [
    {
     "data": {
      "text/plain": [
       "<matplotlib.collections.PathCollection at 0x7fde1d233690>"
      ]
     },
     "execution_count": 28,
     "metadata": {},
     "output_type": "execute_result"
    }
   ],
   "source": [
    "'''\n",
    "plot the trend of prices\n",
    "'''\n",
    "\n",
    "from matplotlib import pyplot as plt\n",
    "plt.scatter(boston.data[:, 5], boston.target, color='r')"
   ]
  },
  {
   "cell_type": "code",
   "execution_count": 29,
   "metadata": {},
   "outputs": [],
   "source": [
    "'''\n",
    "use the most basic regression: LinearRegression\n",
    "'''\n",
    "\n",
    "from sklearn.linear_model import LinearRegression\n",
    "lr = LinearRegression()\n",
    "\n",
    "#now split data and train on it\n",
    "import numpy as np\n",
    "x = boston.data[:, 5]\n",
    "y = boston.target\n",
    "x = np.transpose(np.atleast_2d(x))\n",
    "lr.fit(x, y)\n",
    "y_predicted = lr.predict(x)"
   ]
  },
  {
   "cell_type": "code",
   "execution_count": 31,
   "metadata": {},
   "outputs": [
    {
     "data": {
      "image/png": "[encoded data removed]",
      "text/plain": [
       "<matplotlib.figure.Figure at 0x7fde1d1e3dd0>"
      ]
     },
     "metadata": {},
     "output_type": "display_data"
    }
   ],
   "source": [
    "'''\n",
    "plotting the graph\n",
    "'''\n",
    "\n",
    "fig, pred = plt.subplots()\n",
    "pred.plot(boston.data[:, 5], y_predicted, color='blue')\n",
    "pred.scatter(x, y)\n",
    "plt.show()"
   ]
  },
  {
   "cell_type": "code",
   "execution_count": 35,
   "metadata": {},
   "outputs": [
    {
     "name": "stdout",
     "output_type": "stream",
     "text": [
      "Mean squared error (of training data): 43.6\n",
      "RMSE (of training data): 6.6\n"
     ]
    }
   ],
   "source": [
    "'''\n",
    "measuring how good the fit is quantitatively,\n",
    "using Root Mean Square Error(RMSE)\n",
    "'''\n",
    "from sklearn.metrics import mean_squared_error\n",
    "# mse = mean_squared_error(y, lr.predict(x))\n",
    "mse = mean_squared_error(y, y_predicted)\n",
    "print(\"Mean squared error (of training data): {:.3}\".format(mse))\n",
    "\n",
    "# A more nicely interpretable value is the root of mean squared error\n",
    "rmse = np.sqrt(mse)\n",
    "print(\"RMSE (of training data): {:.3}\".format(rmse))\n",
    "# Note: One advantage of using RMSE is that we can quickly obtain a very rough estimate of\n",
    "#       the error by multiplying it by two."
   ]
  },
  {
   "cell_type": "code",
   "execution_count": 37,
   "metadata": {},
   "outputs": [
    {
     "name": "stdout",
     "output_type": "stream",
     "text": [
      "R2 (on training data): 0.48\n",
      "R2 (using the score method): 0.48\n"
     ]
    }
   ],
   "source": [
    "'''\n",
    "the above measure is still hard to comprehend,\n",
    "so let us switch to a more relativistic metric,\n",
    "the \"r2_score metric\".\n",
    "'''\n",
    "from sklearn.metrics import r2_score\n",
    "r2 = r2_score(y, y_predicted)\n",
    "print(\"R2 (on training data): {:.2}\".format(r2))\n",
    "\n",
    "# also we can use the in-built score function of the regressor\n",
    "r2 = lr.score(x, y)\n",
    "print(\"R2 (using the score method): {:.2}\".format(r2))"
   ]
  },
  {
   "cell_type": "code",
   "execution_count": null,
   "metadata": {
    "collapsed": true
   },
   "outputs": [],
   "source": []
  }
 ],
 "metadata": {
  "kernelspec": {
   "display_name": "Python 2",
   "language": "python",
   "name": "python2"
  },
  "language_info": {
   "codemirror_mode": {
    "name": "ipython",
    "version": 2
   },
   "file_extension": ".py",
   "mimetype": "text/x-python",
   "name": "python",
   "nbconvert_exporter": "python",
   "pygments_lexer": "ipython2",
   "version": "2.7.12"
  }
 },
 "nbformat": 4,
 "nbformat_minor": 2
}
